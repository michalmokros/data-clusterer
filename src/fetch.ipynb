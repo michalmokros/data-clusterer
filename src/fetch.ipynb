{
 "cells": [
  {
   "cell_type": "markdown",
   "metadata": {},
   "source": [
    "# Fetching the Data"
   ]
  },
  {
   "cell_type": "code",
   "execution_count": 4,
   "metadata": {},
   "outputs": [],
   "source": [
    "import csv\n",
    "from elasticsearch import Elasticsearch\n",
    "from elasticsearch.helpers import scan, ScanError"
   ]
  },
  {
   "cell_type": "markdown",
   "metadata": {},
   "source": [
    "## Setup"
   ]
  },
  {
   "cell_type": "code",
   "execution_count": 16,
   "metadata": {},
   "outputs": [],
   "source": [
    "# These parameters are only placeholders\n",
    "url = 'http://localhost:9200'\n",
    "scheme = 'https'\n",
    "port = 443\n",
    "pid = '123abc'\n",
    "index = \"elastic_index\"\n",
    "\n",
    "sessions_file = \"sessions_raw.csv\"\n",
    "events_file = \"events_raw.csv\"\n",
    "\n",
    "es = Elasticsearch(\n",
    "            [url],\n",
    "            scheme=scheme,\n",
    "            port=port)"
   ]
  },
  {
   "cell_type": "markdown",
   "metadata": {},
   "source": [
    "### ElasticSearch queries"
   ]
  },
  {
   "cell_type": "code",
   "execution_count": 10,
   "metadata": {},
   "outputs": [],
   "source": [
    "session_query = {\n",
    "    \"query\": {\n",
    "        \"bool\": {\n",
    "            \"filter\": [\n",
    "                {\n",
    "                    \"term\": {\n",
    "                        \"pid\": pid\n",
    "                    }\n",
    "                },\n",
    "                {\n",
    "                    \"term\": {\n",
    "                        \"type\": \"session\"\n",
    "                    }\n",
    "                },\n",
    "                {\n",
    "                    \"range\": {\n",
    "                        \"timeStart\": {\n",
    "                            \"gte\": \"2022-04-01T00:00:00.000Z\",\n",
    "                            \"lte\": \"2022-04-02T00:00:00.000Z\"\n",
    "                        }\n",
    "                    }\n",
    "                }\n",
    "            ]\n",
    "        }\n",
    "    }\n",
    "}\n",
    "\n",
    "event_query = {\n",
    "    \"query\": {\n",
    "        \"bool\": {\n",
    "            \"filter\": [\n",
    "                {\n",
    "                    \"term\": {\n",
    "                        \"pid\": pid\n",
    "                    }\n",
    "                },\n",
    "                {\n",
    "                    \"term\": {\n",
    "                        \"type\": \"event\"\n",
    "                    }\n",
    "                },\n",
    "                {\n",
    "                    \"has_parent\": {\n",
    "                        \"parent_type\": \"record\",\n",
    "                        \"query\": {\n",
    "                            \"bool\": {\n",
    "                                \"filter\": [\n",
    "                                    {\n",
    "                                        \"term\": {\n",
    "                                            \"pid\": pid\n",
    "                                        }\n",
    "                                    },\n",
    "                                    {\n",
    "                                        \"has_parent\": {\n",
    "                                            \"parent_type\": \"session\",\n",
    "                                            \"query\": {\n",
    "                                                \"bool\": {\n",
    "                                                    \"filter\": [\n",
    "                                                        {\n",
    "                                                            \"term\": {\n",
    "                                                                \"pid\": pid\n",
    "                                                            }\n",
    "                                                        },\n",
    "                                                        {\n",
    "                                                            \"range\": {\n",
    "                                                                \"timeStart\": {\n",
    "                                                                    \"gte\": \"2022-04-01T00:00:00.000Z\",\n",
    "                                                                    \"lte\": \"2022-04-02T00:00:00.000Z\"\n",
    "                                                                }\n",
    "                                                            }\n",
    "                                                        }\n",
    "                                                    ]\n",
    "                                                }\n",
    "                                            }\n",
    "                                        }\n",
    "                                    }\n",
    "                                ]\n",
    "                            }\n",
    "                        }\n",
    "                    }\n",
    "                }\n",
    "            ]\n",
    "        }\n",
    "    }\n",
    "}"
   ]
  },
  {
   "cell_type": "markdown",
   "metadata": {},
   "source": [
    "### Data fields to select"
   ]
  },
  {
   "cell_type": "code",
   "execution_count": 11,
   "metadata": {},
   "outputs": [],
   "source": [
    "session_fields = [\n",
    "    \"id\",\n",
    "    \"uid\",\n",
    "    \"timeStart\",\n",
    "    \"timeClose\",\n",
    "    \"duration\",\n",
    "    \"pageReferer\",\n",
    "    \"browserCode\",\n",
    "    \"platformCode\",\n",
    "    \"countryCode\",\n",
    "    \"countryCity\",\n",
    "    \"deviceType\",\n",
    "    \"deviceOrientation\",\n",
    "    \"deviceWidth\",\n",
    "    \"deviceHeight\",\n",
    "    \"pageFirst\",\n",
    "    \"pageLast\",\n",
    "    \"pageUrl\",\n",
    "]\n",
    "\n",
    "event_fields = [\n",
    "    \"sid\",\n",
    "    \"eventType\",\n",
    "    \"time\",\n",
    "    \"pageUrl\",\n",
    "]"
   ]
  },
  {
   "cell_type": "markdown",
   "metadata": {},
   "source": [
    "### Helper formatting function"
   ]
  },
  {
   "cell_type": "code",
   "execution_count": 12,
   "metadata": {},
   "outputs": [],
   "source": [
    "def format_row(hit, fields):\n",
    "    row = []\n",
    "    source = hit[\"_source\"]\n",
    "    for field in fields:\n",
    "        if field == \"id\":\n",
    "            if \"_id\" not in hit:\n",
    "                return None\n",
    "            row.append(hit[\"_id\"])\n",
    "        elif field in source:\n",
    "            row.append(source[field])\n",
    "        else:\n",
    "            row.append(None)\n",
    "\n",
    "    return row"
   ]
  },
  {
   "cell_type": "markdown",
   "metadata": {},
   "source": [
    "## Fetch and Store"
   ]
  },
  {
   "cell_type": "markdown",
   "metadata": {},
   "source": [
    "### Sessions"
   ]
  },
  {
   "cell_type": "code",
   "execution_count": 14,
   "metadata": {},
   "outputs": [
    {
     "name": "stdout",
     "output_type": "stream",
     "text": [
      "Saved 6246 elements into 'sessions_raw.csv' file\n"
     ]
    }
   ],
   "source": [
    "try:\n",
    "    sessions = scan(es, query=session_query, doc_type=\"_doc\", index=index, scroll=\"20m\", request_timeout=60)\n",
    "except ScanError:\n",
    "    print('Scan Error')\n",
    "except SystemExit:\n",
    "    print('Run has been terminated')\n",
    "    raise SystemExit()\n",
    "\n",
    "counter = 0\n",
    "with open(sessions_file, \"a\") as csvfile:\n",
    "    csvwriter = csv.writer(csvfile, delimiter=\";\")\n",
    "    csvwriter.writerow(session_fields)\n",
    "\n",
    "    for session in sessions:\n",
    "        if session is None:\n",
    "            continue\n",
    "        csvwriter.writerow(format_row(session, session_fields))\n",
    "        counter += 1\n",
    "\n",
    "print(\"Saved {} elements into '{}' file\".format(counter, sessions_file))"
   ]
  },
  {
   "cell_type": "markdown",
   "metadata": {},
   "source": [
    "### Events"
   ]
  },
  {
   "cell_type": "code",
   "execution_count": 15,
   "metadata": {},
   "outputs": [
    {
     "name": "stdout",
     "output_type": "stream",
     "text": [
      "Saved 244889 elements into 'events_raw.csv' file\n"
     ]
    }
   ],
   "source": [
    "try:\n",
    "    events = scan(es, query=event_query, doc_type=\"_doc\", index=index, scroll=\"20m\", request_timeout=60)\n",
    "except ScanError:\n",
    "    print('Scan Error')\n",
    "except SystemExit:\n",
    "    print('Run has been terminated')\n",
    "    raise SystemExit()\n",
    "\n",
    "counter = 0\n",
    "with open(events_file, \"a\") as csvfile:\n",
    "    csvwriter = csv.writer(csvfile, delimiter=\";\")\n",
    "    csvwriter.writerow(event_fields)\n",
    "\n",
    "    for event in events:\n",
    "        if event is None:\n",
    "            continue\n",
    "        csvwriter.writerow(format_row(event, event_fields))\n",
    "        counter += 1\n",
    "\n",
    "print(\"Saved {} elements into '{}' file\".format(counter, events_file))"
   ]
  }
 ],
 "metadata": {
  "interpreter": {
   "hash": "aee8b7b246df8f9039afb4144a1f6fd8d2ca17a180786b69acc140d282b71a49"
  },
  "kernelspec": {
   "display_name": "Python 3.9.10 64-bit",
   "language": "python",
   "name": "python3"
  },
  "language_info": {
   "codemirror_mode": {
    "name": "ipython",
    "version": 3
   },
   "file_extension": ".py",
   "mimetype": "text/x-python",
   "name": "python",
   "nbconvert_exporter": "python",
   "pygments_lexer": "ipython3",
   "version": "3.9.10"
  },
  "orig_nbformat": 4
 },
 "nbformat": 4,
 "nbformat_minor": 2
}
